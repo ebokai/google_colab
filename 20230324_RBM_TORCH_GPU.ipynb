{
  "nbformat": 4,
  "nbformat_minor": 0,
  "metadata": {
    "colab": {
      "provenance": [],
      "authorship_tag": "ABX9TyMBMk5VQ6ysrlyDWef16FIk",
      "include_colab_link": true
    },
    "kernelspec": {
      "name": "python3",
      "display_name": "Python 3"
    },
    "language_info": {
      "name": "python"
    },
    "accelerator": "GPU",
    "gpuClass": "standard"
  },
  "cells": [
    {
      "cell_type": "markdown",
      "metadata": {
        "id": "view-in-github",
        "colab_type": "text"
      },
      "source": [
        "<a href=\"https://colab.research.google.com/github/ebokai/google_colab/blob/main/20230324_RBM_TORCH_GPU.ipynb\" target=\"_parent\"><img src=\"https://colab.research.google.com/assets/colab-badge.svg\" alt=\"Open In Colab\"/></a>"
      ]
    },
    {
      "cell_type": "code",
      "execution_count": 1,
      "metadata": {
        "id": "C-VnRT8aUK1B"
      },
      "outputs": [],
      "source": [
        "import torch\n",
        "import numpy as np\n",
        "import matplotlib.pyplot as plt"
      ]
    },
    {
      "cell_type": "code",
      "source": [
        "nv = 3\n",
        "nh = 3\n",
        "n = nv + nh"
      ],
      "metadata": {
        "id": "d0KYLsXMU-LA"
      },
      "execution_count": 2,
      "outputs": []
    },
    {
      "cell_type": "code",
      "source": [
        "device = torch.device(\"cuda:0\" if torch.cuda.is_available() else \"cpu\")"
      ],
      "metadata": {
        "id": "CBAUmDHqXMAB"
      },
      "execution_count": 3,
      "outputs": []
    },
    {
      "cell_type": "code",
      "source": [
        "learning_rate = 0.01\n",
        "epochs = 25\n",
        "batch_size = 100\n",
        "N = 10000\n",
        "k = 3 # gibbs sampling steps"
      ],
      "metadata": {
        "id": "IKGfKDcNVJGF"
      },
      "execution_count": 4,
      "outputs": []
    },
    {
      "cell_type": "code",
      "source": [
        "class RBM(torch.nn.Module):\n",
        "    \n",
        "    def __init__(self, nv, nh):\n",
        "        \n",
        "        super(RBM, self).__init__()\n",
        "        \n",
        "        self.w = torch.nn.Parameter(torch.randn(nv, nh) * 0.01)\n",
        "        self.a = torch.nn.Parameter(torch.zeros(nv))\n",
        "        self.b = torch.nn.Parameter(torch.zeros(nh))\n",
        "        \n",
        "    def sample_h(self, v):\n",
        "        \n",
        "        phv = torch.sigmoid(torch.matmul(v, self.w) + self.b)\n",
        "        h = torch.bernoulli(phv)\n",
        "        \n",
        "        return h, phv\n",
        "    \n",
        "    def sample_v(self, h):\n",
        "        \n",
        "        pvh = torch.sigmoid(torch.matmul(h, self.w.t()) + self.a)\n",
        "        v = torch.bernoulli(pvh)\n",
        "        \n",
        "        return v, pvh\n",
        "    \n",
        "    def forward(self, v):\n",
        "        h, phv = self.sample_h(v)\n",
        "        for i in range(k):\n",
        "            v, pvh = self.sample_v(phv)\n",
        "            h, phv = self.sample_h(v)\n",
        "        v, pvh = self.sample_v(phv)\n",
        "        return v\n",
        "    \n",
        "    def free_energy(self, v):\n",
        "        \n",
        "        vt = torch.matmul(v, self.a)\n",
        "        ht = torch.sum(torch.log(1 + torch.exp(torch.matmul(v, self.w) + self.b)), dim = 1)\n",
        "        \n",
        "        return -(vt + ht)"
      ],
      "metadata": {
        "id": "FMFMYnxvVQOt"
      },
      "execution_count": 5,
      "outputs": []
    },
    {
      "cell_type": "code",
      "source": [
        "def torch_to_w(model):\n",
        "    a = (model.a).cpu().detach().numpy()\n",
        "    b = (model.b).cpu().detach().numpy()\n",
        "    w = (model.w).cpu().detach().numpy()\n",
        "    \n",
        "    W = list(a) + list(b) + list(w.reshape(nv * nh))\n",
        "    \n",
        "    return np.array(W)"
      ],
      "metadata": {
        "id": "PeXzK0c4WVbF"
      },
      "execution_count": 20,
      "outputs": []
    },
    {
      "cell_type": "code",
      "source": [
        "def draw(wf, nv, nh, size = 9):\n",
        "\tplt.figure(figsize=(size, size))\n",
        "\n",
        "\tn = nv + nh \n",
        "\n",
        "\ta = wf[:nv]\n",
        "\tb = wf[nv:n]\n",
        "\tw = wf[n:]\n",
        "\tk = 0\n",
        "\n",
        "\tc1 = '#7467ee'\n",
        "\tc2 = '#ee757A'\n",
        "\n",
        "\tfor i in range(nv):\n",
        "\t\tfor j in range(nh):\n",
        "\t\t\tc = c1 if w[k] > 0 else c2\n",
        "\t\t\tplt.plot([0,2],[-(nv-1)/2+i,-(nh-1)/2+j],'-',c=c, lw=abs(w[k]))\n",
        "\t\t\tk+=1\n",
        "\tfor i in range(nv):\n",
        "\t\tc = c1 if a[i] > 0 else c2\n",
        "\t\tplt.plot(0, -(nv-1)/2+i, 'o', ms=10*abs(a[i]), c=c)\n",
        "\tfor i in range(nh):\n",
        "\t\tc = c1 if b[i] > 0 else c2\n",
        "\t\tplt.plot(2, -(nh-1)/2+i, 'o', ms=10*abs(b[i]), c=c)\n",
        "\n",
        "\tplt.xticks([])\n",
        "\tplt.yticks([])\n",
        "\tplt.xlim(-0.2,2.2)\n",
        "\tnx = max(nv, nh)\n",
        "\tplt.ylim(-(nx-1)/2-1,(nx-1)/2+1)"
      ],
      "metadata": {
        "id": "q0Cpp8_WWno6"
      },
      "execution_count": 7,
      "outputs": []
    },
    {
      "cell_type": "code",
      "source": [
        "states = np.array([[1,0,0],[1,1,0],[1,0,1],[1,1,1]])\n",
        "idx = np.random.choice(np.arange(len(states)), N)\n",
        "data = states[idx]\n",
        "data = torch.from_numpy(data)\n",
        "train_loader = torch.utils.data.DataLoader(dataset=data.to(torch.float),\n",
        "                                           batch_size=batch_size,\n",
        "                                           shuffle=True)"
      ],
      "metadata": {
        "id": "X37uNFNLVRid"
      },
      "execution_count": 8,
      "outputs": []
    },
    {
      "cell_type": "code",
      "source": [
        "def train(rbm, train_loader, learning_rate, k, training_epochs):\n",
        "    optimizer = torch.optim.Adam(rbm.parameters(), lr=learning_rate)\n",
        "\n",
        "    for epoch in range(training_epochs):\n",
        "        \n",
        "        epoch_cost = 0.\n",
        "        \n",
        "        for batch in train_loader:\n",
        "            \n",
        "            batch = batch.view(-1, nv).to(device)\n",
        "            \n",
        "            v = rbm.forward(batch).to(device)\n",
        "\n",
        "            cost = torch.mean(rbm.free_energy(batch)) - torch.mean(rbm.free_energy(v))\n",
        "            cost = cost.to(device)\n",
        "            \n",
        "            epoch_cost += cost.item()\n",
        "            optimizer.zero_grad()\n",
        "            cost.backward()\n",
        "            optimizer.step()\n",
        "\n",
        "        print('Epoch [{}/{}], cost: {:.4f}'.format(epoch+1, training_epochs, epoch_cost))"
      ],
      "metadata": {
        "id": "g67xyFXwVW-8"
      },
      "execution_count": 16,
      "outputs": []
    },
    {
      "cell_type": "code",
      "source": [
        "device = torch.device(\"cuda:0\" if torch.cuda.is_available() else \"cpu\")\n",
        "model = RBM(nv, nh).to(device)\n",
        "\n",
        "train(model, train_loader, learning_rate, k, epochs)"
      ],
      "metadata": {
        "colab": {
          "base_uri": "https://localhost:8080/"
        },
        "id": "yKCC-1GYVftN",
        "outputId": "e151844f-9772-4ba1-fc91-9f9903978b72"
      },
      "execution_count": 17,
      "outputs": [
        {
          "output_type": "stream",
          "name": "stdout",
          "text": [
            "Epoch [1/25], cost: -20.0120\n",
            "Epoch [2/25], cost: -11.5727\n",
            "Epoch [3/25], cost: -5.4085\n",
            "Epoch [4/25], cost: -3.8942\n",
            "Epoch [5/25], cost: -2.7146\n",
            "Epoch [6/25], cost: -1.7673\n",
            "Epoch [7/25], cost: -1.1939\n",
            "Epoch [8/25], cost: -1.5198\n",
            "Epoch [9/25], cost: -1.2894\n",
            "Epoch [10/25], cost: -1.3356\n",
            "Epoch [11/25], cost: -0.6360\n",
            "Epoch [12/25], cost: -0.5226\n",
            "Epoch [13/25], cost: -0.7452\n",
            "Epoch [14/25], cost: -0.6036\n",
            "Epoch [15/25], cost: -0.1916\n",
            "Epoch [16/25], cost: -0.3296\n",
            "Epoch [17/25], cost: -0.5696\n",
            "Epoch [18/25], cost: -0.0893\n",
            "Epoch [19/25], cost: -0.3600\n",
            "Epoch [20/25], cost: 0.0048\n",
            "Epoch [21/25], cost: -0.1641\n",
            "Epoch [22/25], cost: -0.0832\n",
            "Epoch [23/25], cost: 0.0349\n",
            "Epoch [24/25], cost: -0.0566\n",
            "Epoch [25/25], cost: 0.0592\n"
          ]
        }
      ]
    },
    {
      "cell_type": "code",
      "source": [
        "W = torch_to_w(model)"
      ],
      "metadata": {
        "id": "cpABEzl6VhJ0"
      },
      "execution_count": 21,
      "outputs": []
    },
    {
      "cell_type": "code",
      "source": [
        "draw(W, nv, nh)"
      ],
      "metadata": {
        "colab": {
          "base_uri": "https://localhost:8080/",
          "height": 520
        },
        "id": "brW8AT70WaCh",
        "outputId": "d1365130-4c57-44e5-cf11-892203a71c92"
      },
      "execution_count": 22,
      "outputs": [
        {
          "output_type": "display_data",
          "data": {
            "text/plain": [
              "<Figure size 648x648 with 1 Axes>"
            ],
            "image/png": "[encoded data removed]"
          },
          "metadata": {}
        }
      ]
    },
    {
      "cell_type": "code",
      "source": [],
      "metadata": {
        "id": "I0Cw3X9gWqBo"
      },
      "execution_count": null,
      "outputs": []
    }
  ]
}