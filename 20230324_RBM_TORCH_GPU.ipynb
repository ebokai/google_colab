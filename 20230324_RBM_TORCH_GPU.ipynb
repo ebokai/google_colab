{
  "nbformat": 4,
  "nbformat_minor": 0,
  "metadata": {
    "colab": {
      "provenance": [],
      "authorship_tag": "ABX9TyPACQfc3DzN6/pwiWvkVr1U",
      "include_colab_link": true
    },
    "kernelspec": {
      "name": "python3",
      "display_name": "Python 3"
    },
    "language_info": {
      "name": "python"
    },
    "accelerator": "TPU",
    "gpuClass": "standard"
  },
  "cells": [
    {
      "cell_type": "markdown",
      "metadata": {
        "id": "view-in-github",
        "colab_type": "text"
      },
      "source": [
        "<a href=\"https://colab.research.google.com/github/ebokai/google_colab/blob/main/20230324_RBM_TORCH_GPU.ipynb\" target=\"_parent\"><img src=\"https://colab.research.google.com/assets/colab-badge.svg\" alt=\"Open In Colab\"/></a>"
      ]
    },
    {
      "cell_type": "code",
      "execution_count": 8,
      "metadata": {
        "id": "C-VnRT8aUK1B"
      },
      "outputs": [],
      "source": [
        "import torch\n",
        "import numpy as np\n",
        "import matplotlib.pyplot as plt"
      ]
    },
    {
      "cell_type": "code",
      "source": [
        "nv = 3\n",
        "nh = 3\n",
        "n = nv + nh"
      ],
      "metadata": {
        "id": "d0KYLsXMU-LA"
      },
      "execution_count": 2,
      "outputs": []
    },
    {
      "cell_type": "code",
      "source": [
        "learning_rate = 0.01\n",
        "epochs = 25\n",
        "batch_size = 100\n",
        "N = 10000\n",
        "k = 3 # gibbs sampling steps"
      ],
      "metadata": {
        "id": "IKGfKDcNVJGF"
      },
      "execution_count": 3,
      "outputs": []
    },
    {
      "cell_type": "code",
      "source": [
        "class RBM(torch.nn.Module):\n",
        "    \n",
        "    def __init__(self, nv, nh):\n",
        "        \n",
        "        super(RBM, self).__init__()\n",
        "        \n",
        "        self.w = torch.nn.Parameter(torch.randn(nv, nh) * 0.01)\n",
        "        self.a = torch.nn.Parameter(torch.zeros(nv))\n",
        "        self.b = torch.nn.Parameter(torch.zeros(nh))\n",
        "        \n",
        "    def sample_h(self, v):\n",
        "        \n",
        "        phv = torch.sigmoid(torch.matmul(v, self.w) + self.b)\n",
        "        h = torch.bernoulli(phv)\n",
        "        \n",
        "        return h, phv\n",
        "    \n",
        "    def sample_v(self, h):\n",
        "        \n",
        "        pvh = torch.sigmoid(torch.matmul(h, self.w.t()) + self.a)\n",
        "        v = torch.bernoulli(pvh)\n",
        "        \n",
        "        return v, pvh\n",
        "    \n",
        "    def forward(self, v):\n",
        "        h, phv = self.sample_h(v)\n",
        "        for i in range(k):\n",
        "            v, pvh = self.sample_v(phv)\n",
        "            h, phv = self.sample_h(v)\n",
        "        v, pvh = self.sample_v(phv)\n",
        "        return v\n",
        "    \n",
        "    def free_energy(self, v):\n",
        "        \n",
        "        vt = torch.matmul(v, self.a)\n",
        "        ht = torch.sum(torch.log(1 + torch.exp(torch.matmul(v, self.w) + self.b)), dim = 1)\n",
        "        \n",
        "        return -(vt + ht)"
      ],
      "metadata": {
        "id": "FMFMYnxvVQOt"
      },
      "execution_count": 4,
      "outputs": []
    },
    {
      "cell_type": "code",
      "source": [
        "def torch_to_w(model):\n",
        "    a = model.a.detach().numpy()\n",
        "    b = model.b.detach().numpy()\n",
        "    w = model.w.detach().numpy()\n",
        "    \n",
        "    W = list(a) + list(b) + list(w.reshape(nv * nh))\n",
        "    \n",
        "    return np.array(W)"
      ],
      "metadata": {
        "id": "PeXzK0c4WVbF"
      },
      "execution_count": 9,
      "outputs": []
    },
    {
      "cell_type": "code",
      "source": [
        "states = np.array([[1,0,0],[1,1,0],[1,0,1],[1,1,1]])\n",
        "idx = np.random.choice(np.arange(len(states)), N)\n",
        "data = states[idx]\n",
        "data = torch.from_numpy(data)\n",
        "train_loader = torch.utils.data.DataLoader(dataset=data.to(torch.float),\n",
        "                                           batch_size=batch_size,\n",
        "                                           shuffle=True)"
      ],
      "metadata": {
        "id": "X37uNFNLVRid"
      },
      "execution_count": 5,
      "outputs": []
    },
    {
      "cell_type": "code",
      "source": [
        "def train(rbm, train_loader, learning_rate, k, training_epochs):\n",
        "    optimizer = torch.optim.Adam(rbm.parameters(), lr=learning_rate)\n",
        "\n",
        "    for epoch in range(training_epochs):\n",
        "        \n",
        "        epoch_cost = 0.\n",
        "        \n",
        "        for batch in train_loader:\n",
        "            \n",
        "            batch = batch.view(-1, nv)\n",
        "            \n",
        "            v = rbm.forward(batch)\n",
        "\n",
        "            cost = torch.mean(rbm.free_energy(batch)) - torch.mean(rbm.free_energy(v))\n",
        "            \n",
        "            epoch_cost += cost.item()\n",
        "            optimizer.zero_grad()\n",
        "            cost.backward()\n",
        "            optimizer.step()\n",
        "\n",
        "        print('Epoch [{}/{}], cost: {:.4f}'.format(epoch+1, training_epochs, epoch_cost))"
      ],
      "metadata": {
        "id": "g67xyFXwVW-8"
      },
      "execution_count": 6,
      "outputs": []
    },
    {
      "cell_type": "code",
      "source": [
        "model = RBM(nv, nh)\n",
        "train(model, train_loader, learning_rate, k, epochs)"
      ],
      "metadata": {
        "colab": {
          "base_uri": "https://localhost:8080/"
        },
        "id": "yKCC-1GYVftN",
        "outputId": "a3291440-4498-4ba8-d24f-be81e622f8d9"
      },
      "execution_count": 7,
      "outputs": [
        {
          "output_type": "stream",
          "name": "stdout",
          "text": [
            "Epoch [1/25], cost: -20.2902\n",
            "Epoch [2/25], cost: -11.1853\n",
            "Epoch [3/25], cost: -6.5335\n",
            "Epoch [4/25], cost: -4.1606\n",
            "Epoch [5/25], cost: -2.9695\n",
            "Epoch [6/25], cost: -1.8236\n",
            "Epoch [7/25], cost: -1.4269\n",
            "Epoch [8/25], cost: -1.3068\n",
            "Epoch [9/25], cost: -0.8032\n",
            "Epoch [10/25], cost: -0.5879\n",
            "Epoch [11/25], cost: -1.0201\n",
            "Epoch [12/25], cost: -1.1388\n",
            "Epoch [13/25], cost: -0.6922\n",
            "Epoch [14/25], cost: -0.5790\n",
            "Epoch [15/25], cost: -0.0776\n",
            "Epoch [16/25], cost: -0.1667\n",
            "Epoch [17/25], cost: -0.4511\n",
            "Epoch [18/25], cost: -0.0281\n",
            "Epoch [19/25], cost: -0.0869\n",
            "Epoch [20/25], cost: -0.1665\n",
            "Epoch [21/25], cost: -0.2613\n",
            "Epoch [22/25], cost: -0.1955\n",
            "Epoch [23/25], cost: -0.1999\n",
            "Epoch [24/25], cost: -0.0606\n",
            "Epoch [25/25], cost: 0.0096\n"
          ]
        }
      ]
    },
    {
      "cell_type": "code",
      "source": [
        "W = torch_to_w(model)"
      ],
      "metadata": {
        "id": "cpABEzl6VhJ0"
      },
      "execution_count": 10,
      "outputs": []
    },
    {
      "cell_type": "code",
      "source": [],
      "metadata": {
        "id": "brW8AT70WaCh"
      },
      "execution_count": null,
      "outputs": []
    }
  ]
}